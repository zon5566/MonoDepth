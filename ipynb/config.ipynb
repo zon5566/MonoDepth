{
 "cells": [
  {
   "cell_type": "code",
   "execution_count": 1,
   "metadata": {},
   "outputs": [],
   "source": [
    "import argparse"
   ]
  },
  {
   "cell_type": "code",
   "execution_count": null,
   "metadata": {},
   "outputs": [],
   "source": [
    "\n",
    "model_config = argparse.ArgumentParser()\n",
    "\n",
    "# environment\n",
    "model_config.add_argument('--gpu_id', type=eval, default=0)\n",
    "model_config.add_argument('--root_path', type=str, default='.')\n",
    "\n",
    "# model attribute\n",
    "model_config.add_argument('--model_type', type=str, default='mono_depth', help='choose the kind of network: mono_depth, vgg16, resnet50')\n",
    "model_config.add_argument('--height', type=eval, default=256, help='input height of the image')\n",
    "model_config.add_argument('--width', type=eval, default=512, help='input width of the image')\n",
    "model_config.add_argument('--channel', type=eval, default=3, help=\"input image channel number\")\n",
    "model_config.add_argument('--dataset', type=str, default='kitti', help='kitti, cityspace')\n",
    "model_config.add_argument('--dataset_root', type=str, default='kitti_zip_light')\n",
    "model_config.add_argument('--batch_size', type=eval, default=8)\n",
    "\n",
    "# training\n",
    "model_config.add_argument('--mode', type=str, default='train', help='train/ valid/ test')\n",
    "model_config.add_argument('--epoch', type=eval, default=50, help='epoch number on training')\n",
    "model_config.add_argument('--learning_rate', type=float, default=1e-4, help='learning rate of the generator\\'s optimizer')\n",
    "model_config.add_argument('--resume', type=str, default='')\n",
    "\n",
    "# testing\n",
    "model_config.add_argument('--output_directory', type=str, default='evaluation')\n",
    "\n",
    "# loss\n",
    "model_config.add_argument('--alpha', type=float, default=0.85, help='weight between SSIM and L1 in image loss')\n",
    "model_config.add_argument('--disp_gradient_loss_weight', type=float, default=0.1)\n",
    "model_config.add_argument('--lr_loss_weight', type=float, default=1.0)\n",
    "\n",
    "# evaluation\n",
    "model_config.add_argument('--gt_directory', type=str, default='ground_truth')\n",
    "model_config.add_argument('--min_depth', type=float, default=1e-3)\n",
    "model_config.add_argument('--max_depth', type=float, default=80)\n",
    "model_config.add_argument('--pp', action='store_true')\n",
    "\n",
    "def get_config():\n",
    "    config, unparsed = model_config.parse_known_args()\n",
    "    return config, unparsed"
   ]
  }
 ],
 "metadata": {
  "kernelspec": {
   "display_name": "Python 3",
   "language": "python",
   "name": "python3"
  },
  "language_info": {
   "codemirror_mode": {
    "name": "ipython",
    "version": 3
   },
   "file_extension": ".py",
   "mimetype": "text/x-python",
   "name": "python",
   "nbconvert_exporter": "python",
   "pygments_lexer": "ipython3",
   "version": "3.5.3"
  }
 },
 "nbformat": 4,
 "nbformat_minor": 2
}
